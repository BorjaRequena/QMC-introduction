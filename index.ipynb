{
 "cells": [
  {
   "cell_type": "markdown",
   "metadata": {},
   "source": [
    "# Introduction to Quantum Monte Carlo \n",
    "> A thorough introduction to quantum variational Monte Carlo from the foundations with code examples.\n",
    "\n",
    "A step-by-step introduction to Monte Carlo methods from the foundations. The tutorial can be viewed online, with the code examples, or as an interactive notebook. The goal is to start from the most basic concepts to implement a state-of-the-art quantum Variational Monte Carlo with the [Restricted Boltzmann Machine ansatz](https://arxiv.org/pdf/1606.02318.pdf). \n",
    "\n",
    "This guide introduces the main concepts of Monte Carlo methods. Then, each concept is subsequently brought to the field of quantum phsyics, providing examples with code. Hence, this is not only restricted to quantum Monte Carlo, but it is also of use to anyone starting with classical Monte Carlo methods, as the main concepts are independent of the application field. \n",
    "\n",
    "The main covered topics are \n",
    "- Monte Carlo integration\n",
    "- Importance sampling\n",
    "- Statistical analysis and autocorrelation time\n",
    "- Monte Carlo optimization (variational Monte Carlo)\n",
    "\n",
    "All the code examples start from scratch with native python and [NumPy](https://numpy.org)."
   ]
  }
 ],
 "metadata": {
  "kernelspec": {
   "display_name": "Python 3",
   "language": "python",
   "name": "python3"
  }
 },
 "nbformat": 4,
 "nbformat_minor": 4
}
